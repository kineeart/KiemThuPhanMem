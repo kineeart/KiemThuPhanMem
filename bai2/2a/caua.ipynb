{
 "cells": [
  {
   "cell_type": "code",
   "execution_count": null,
   "id": "e982f716",
   "metadata": {},
   "outputs": [
    {
     "name": "stdout",
     "output_type": "stream",
     "text": [
      "Input: -100\n",
      "100\n",
      "----------------\n",
      "Input: -1\n",
      "1\n",
      "----------------\n",
      "Input: 0\n",
      "0\n",
      "----------------\n",
      "Input: 1\n",
      "-1\n",
      "----------------\n",
      "Input: 5\n",
      "-5\n",
      "----------------\n",
      "Input: 10\n",
      "-10\n",
      "----------------\n",
      "Input: 11\n",
      "22\n",
      "----------------\n",
      "Input: 100\n",
      "200\n",
      "----------------\n",
      "Input: 2147483647\n",
      "-2\n",
      "----------------\n",
      "Input: -2147483648\n",
      "-2147483648\n",
      "----------------\n"
     ]
    }
   ],
   "source": [
    "import os\n",
    "\n",
    "os.system(\"g++ caua.cpp -o caua\")\n",
    "\n",
    "inputs = [\n",
    "    \"-100\",\n",
    "    \"-1\",\n",
    "    \"0\",\n",
    "    \"1\",\n",
    "    \"5\",\n",
    "    \"10\",\n",
    "    \"11\",\n",
    "    \"100\",\n",
    "    \"2147483647\",\n",
    "    \"-2147483648\"\n",
    "]\n",
    "\n",
    "for line in inputs:\n",
    "    print(f\"Input: {line}\")\n",
    "    os.system(f'echo \"{line}\" | ./caua')\n",
    "    print(\"----------------\")\n"
   ]
  }
 ],
 "metadata": {
  "kernelspec": {
   "display_name": "Python 3",
   "language": "python",
   "name": "python3"
  },
  "language_info": {
   "codemirror_mode": {
    "name": "ipython",
    "version": 3
   },
   "file_extension": ".py",
   "mimetype": "text/x-python",
   "name": "python",
   "nbconvert_exporter": "python",
   "pygments_lexer": "ipython3",
   "version": "3.12.1"
  }
 },
 "nbformat": 4,
 "nbformat_minor": 5
}
