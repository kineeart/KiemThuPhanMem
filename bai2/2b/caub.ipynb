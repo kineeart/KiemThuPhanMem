{
 "cells": [
  {
   "cell_type": "code",
   "execution_count": null,
   "id": "f0d0e2f0",
   "metadata": {},
   "outputs": [
    {
     "name": "stdout",
     "output_type": "stream",
     "text": [
      "Input: -2147483648 -> Output: 0\n",
      "Input: -10 -> Output: -20\n",
      "Input: -1 -> Output: -2\n",
      "Input: 0 -> Output: 0\n",
      "Input: 1 -> Output: -1\n",
      "Input: 5 -> Output: -5\n",
      "Input: 10 -> Output: -10\n",
      "Input: 11 -> Output: 22\n",
      "Input: 100 -> Output: 200\n",
      "Input: 2147483647 -> Output: -2\n"
     ]
    }
   ],
   "source": [
    "import os\n",
    "import subprocess\n",
    "os.system(\"g++ caub.cpp -o caub\")\n",
    "\n",
    "inputs = [\n",
    "    -2147483648,\n",
    "    -10,\n",
    "    -1,\n",
    "    0,\n",
    "    1,\n",
    "    5,\n",
    "    10,\n",
    "    11,\n",
    "    100,\n",
    "    2147483647\n",
    "]\n",
    "\n",
    "for val in inputs:\n",
    "    result = subprocess.run(\n",
    "        [\"./caub\"],\n",
    "        input=str(val),\n",
    "        text=True,\n",
    "        capture_output=True\n",
    "    )\n",
    "    output = result.stdout.strip()\n",
    "    print(f\"Input: {val} -> Output: {output}\")\n"
   ]
  }
 ],
 "metadata": {
  "kernelspec": {
   "display_name": "Python 3",
   "language": "python",
   "name": "python3"
  },
  "language_info": {
   "codemirror_mode": {
    "name": "ipython",
    "version": 3
   },
   "file_extension": ".py",
   "mimetype": "text/x-python",
   "name": "python",
   "nbconvert_exporter": "python",
   "pygments_lexer": "ipython3",
   "version": "3.12.1"
  }
 },
 "nbformat": 4,
 "nbformat_minor": 5
}
