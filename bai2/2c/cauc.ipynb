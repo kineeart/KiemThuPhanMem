{
 "cells": [
  {
   "cell_type": "code",
   "execution_count": 3,
   "id": "1a46fdff",
   "metadata": {},
   "outputs": [
    {
     "name": "stdout",
     "output_type": "stream",
     "text": [
      "Input: -1 -> Output: -2\n",
      "Input: 0 -> Output: 0\n",
      "Input: 2 -> Output: 4\n",
      "Input: 5 -> Output: 10\n",
      "Input: 10 -> Output: 20\n",
      "Input: 11 -> Output: 22\n",
      "Input: 100 -> Output: 200\n"
     ]
    }
   ],
   "source": [
    "import os\n",
    "import subprocess\n",
    "os.system(\"g++ cauc.cpp -o cauc\")\n",
    "\n",
    "inputs = [\n",
    "    -1,   \n",
    "    0,      \n",
    "    2,   \n",
    "    5,     \n",
    "    10,  \n",
    "    11,  \n",
    "    100   \n",
    "]\n",
    "\n",
    "for val in inputs:\n",
    "    result = subprocess.run(\n",
    "        [\"./cauc\"],\n",
    "        input=str(val),\n",
    "        text=True,\n",
    "        capture_output=True\n",
    "    )\n",
    "    output = result.stdout.strip()\n",
    "    print(f\"Input: {val} -> Output: {output}\")\n"
   ]
  }
 ],
 "metadata": {
  "kernelspec": {
   "display_name": "Python 3",
   "language": "python",
   "name": "python3"
  },
  "language_info": {
   "codemirror_mode": {
    "name": "ipython",
    "version": 3
   },
   "file_extension": ".py",
   "mimetype": "text/x-python",
   "name": "python",
   "nbconvert_exporter": "python",
   "pygments_lexer": "ipython3",
   "version": "3.12.1"
  }
 },
 "nbformat": 4,
 "nbformat_minor": 5
}
