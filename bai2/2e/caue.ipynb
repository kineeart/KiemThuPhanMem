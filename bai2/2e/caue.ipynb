{
 "cells": [
  {
   "cell_type": "code",
   "execution_count": 1,
   "id": "c4185d33",
   "metadata": {},
   "outputs": [
    {
     "name": "stdout",
     "output_type": "stream",
     "text": [
      "Input: 5 3 2 -> Output: 5\n",
      "Input: 2 9 1 -> Output: 9\n",
      "Input: 3 2 10 -> Output: 10\n",
      "Input: 5 5 5 -> Output: 0\n",
      "Input: 5 5 3 -> Output: 0\n",
      "Input: 3 7 7 -> Output: 0\n"
     ]
    }
   ],
   "source": [
    "import os\n",
    "\n",
    "os.system(\"g++ caue.cpp -o caue\")\n",
    "\n",
    "inputs = [\n",
    "    \"5 3 2\",\n",
    "    \"2 9 1\",\n",
    "    \"3 2 10\",\n",
    "    \"5 5 5\",\n",
    "    \"5 5 3\",\n",
    "    \"3 7 7\"\n",
    "]\n",
    "\n",
    "for line in inputs:\n",
    "    stream = os.popen(f'echo \"{line}\" | ./caue')\n",
    "    output = stream.read().strip()\n",
    "    print(f\"Input: {line} -> Output: {output}\")\n"
   ]
  }
 ],
 "metadata": {
  "kernelspec": {
   "display_name": "Python 3",
   "language": "python",
   "name": "python3"
  },
  "language_info": {
   "codemirror_mode": {
    "name": "ipython",
    "version": 3
   },
   "file_extension": ".py",
   "mimetype": "text/x-python",
   "name": "python",
   "nbconvert_exporter": "python",
   "pygments_lexer": "ipython3",
   "version": "3.12.1"
  }
 },
 "nbformat": 4,
 "nbformat_minor": 5
}
