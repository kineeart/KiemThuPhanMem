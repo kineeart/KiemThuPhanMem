{
 "cells": [
  {
   "cell_type": "code",
   "execution_count": 4,
   "id": "e7e35e05",
   "metadata": {},
   "outputs": [
    {
     "name": "stdout",
     "output_type": "stream",
     "text": [
      "Input: 0 0 0 -> Output: Infinite solutions.\n",
      "Input: 0 0 5 -> Output: No solution.\n",
      "Input: 0 2 -8 -> Output: The equation has 2 real solution(s): 2 -2\n",
      "Input: 0 2 8 -> Output: No solution.\n",
      "Input: 1 0 -4 -> Output: The equation has 2 real solution(s): 1.41421 -1.41421\n",
      "Input: 1 0 0 -> Output: The equation has 2 real solution(s): 0 -0\n",
      "Input: 1 -3 2 -> Output: The equation has 4 real solution(s): 1.41421 -1.41421 1 -1\n",
      "Input: 1 2 10 -> Output: No solution.\n"
     ]
    }
   ],
   "source": [
    "import os\n",
    "import subprocess\n",
    "\n",
    "# Biên dịch chương trình C++\n",
    "os.system(\"g++ cau3.cpp -o cau3 -lm\")\n",
    "\n",
    "# Danh sách input test cases (gom chung vào đây luôn)\n",
    "inputs = [\n",
    "    \"0 0 0\",\n",
    "    \"0 0 5\",\n",
    "    \"0 2 -8\",\n",
    "    \"0 2 8\",\n",
    "    \"1 0 -4\",\n",
    "    \"1 0 0\",\n",
    "    \"1 -3 2\",\n",
    "    \"1 2 10\"\n",
    "]\n",
    "\n",
    "# Chạy từng test case\n",
    "for line in inputs:\n",
    "    result = subprocess.run(\n",
    "        [\"./cau3\"],\n",
    "        input=line,\n",
    "        text=True,\n",
    "        capture_output=True\n",
    "    )\n",
    "    output = result.stdout.strip()\n",
    "    print(f\"Input: {line} -> Output: {output}\")\n"
   ]
  }
 ],
 "metadata": {
  "kernelspec": {
   "display_name": "Python 3",
   "language": "python",
   "name": "python3"
  },
  "language_info": {
   "codemirror_mode": {
    "name": "ipython",
    "version": 3
   },
   "file_extension": ".py",
   "mimetype": "text/x-python",
   "name": "python",
   "nbconvert_exporter": "python",
   "pygments_lexer": "ipython3",
   "version": "3.12.1"
  }
 },
 "nbformat": 4,
 "nbformat_minor": 5
}
